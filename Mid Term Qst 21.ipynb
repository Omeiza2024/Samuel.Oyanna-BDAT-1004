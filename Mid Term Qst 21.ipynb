{
 "cells": [
  {
   "cell_type": "markdown",
   "id": "ce7eeb3b-7eca-4fc3-856d-7cfb1739e44e",
   "metadata": {},
   "source": [
    "# Mid-Term Exam\n",
    "Qst 21\n"
   ]
  },
  {
   "cell_type": "code",
   "execution_count": 3,
   "id": "b74d87d7-4472-43c3-813b-2cf5e76aad2f",
   "metadata": {},
   "outputs": [
    {
     "name": "stdout",
     "output_type": "stream",
     "text": [
      "Length: 5.0\n",
      "Slope: 1.3333333333333333\n"
     ]
    }
   ],
   "source": [
    "import math\n",
    "\n",
    "class Point:\n",
    "    def __init__(self, x=0, y=0):\n",
    "        self.x = x\n",
    "        self.y = y\n",
    "\n",
    "class Segment:\n",
    "    def __init__(self, p1, p2):\n",
    "        self.p1 = p1\n",
    "        self.p2 = p2\n",
    "\n",
    "    def length(self):\n",
    "        return math.sqrt((self.p2.x - self.p1.x) ** 2 + (self.p2.y - self.p1.y) ** 2)\n",
    "\n",
    "    def slope(self):\n",
    "        if self.p2.x == self.p1.x:\n",
    "            return None\n",
    "        return (self.p2.y - self.p1.y) / (self.p2.x - self.p1.x)\n",
    "\n",
    "p1 = Point(3, 4)\n",
    "p2 = Point(0, 0)\n",
    "s = Segment(p1, p2)\n",
    "\n",
    "print(f'Length: {s.length()}')\n",
    "print(f'Slope: {s.slope()}')\n"
   ]
  },
  {
   "cell_type": "code",
   "execution_count": null,
   "id": "134864b5-94c9-46b7-8e08-abb16e517142",
   "metadata": {},
   "outputs": [],
   "source": []
  }
 ],
 "metadata": {
  "kernelspec": {
   "display_name": "Python 3 (ipykernel)",
   "language": "python",
   "name": "python3"
  },
  "language_info": {
   "codemirror_mode": {
    "name": "ipython",
    "version": 3
   },
   "file_extension": ".py",
   "mimetype": "text/x-python",
   "name": "python",
   "nbconvert_exporter": "python",
   "pygments_lexer": "ipython3",
   "version": "3.12.4"
  }
 },
 "nbformat": 4,
 "nbformat_minor": 5
}
